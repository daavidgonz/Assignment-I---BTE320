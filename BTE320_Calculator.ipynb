{
  "nbformat": 4,
  "nbformat_minor": 0,
  "metadata": {
    "colab": {
      "provenance": [],
      "authorship_tag": "ABX9TyNIcFgsJ5qim0ExpE/k9hrQ",
      "include_colab_link": true
    },
    "kernelspec": {
      "name": "python3",
      "display_name": "Python 3"
    },
    "language_info": {
      "name": "python"
    }
  },
  "cells": [
    {
      "cell_type": "markdown",
      "metadata": {
        "id": "view-in-github",
        "colab_type": "text"
      },
      "source": [
        "<a href=\"https://colab.research.google.com/github/daavidgonz/Assignment-I---BTE320/blob/main/BTE320_Calculator.ipynb\" target=\"_parent\"><img src=\"https://colab.research.google.com/assets/colab-badge.svg\" alt=\"Open In Colab\"/></a>"
      ]
    },
    {
      "cell_type": "code",
      "execution_count": null,
      "metadata": {
        "id": "c-wQzr6sq8P-",
        "colab": {
          "base_uri": "https://localhost:8080/"
        },
        "outputId": "a8e2861a-e5b7-4e2e-8227-f185fd54843f"
      },
      "outputs": [
        {
          "name": "stdout",
          "output_type": "stream",
          "text": [
            "value 12\n",
            "operator +\n"
          ]
        }
      ],
      "source": [
        "while True:\n",
        "  i = float(input('value '))\n",
        "  operation = input('operator ')\n",
        "  j = float(input('value '))\n",
        "\n",
        "  if operation == 'break':\n",
        "    break\n",
        "  elif operation == '+':\n",
        "    output = i+j\n",
        "  elif operation == '-':\n",
        "    output = i-j\n",
        "  elif operation == '//':\n",
        "    output = i//j\n",
        "  elif operation == '*':\n",
        "    output = i*j\n",
        "  elif operation == '/':\n",
        "    output = i/j\n",
        "  elif operation == '%':\n",
        "    output = i%j\n",
        "  elif operation == '**':\n",
        "    output = i**j\n",
        "  else:\n",
        "    print('invalid operation', operation) #,operator to show what might have gone wrong\n",
        "    continue\n",
        "\n",
        "  print(f'Answer: {output}')"
      ]
    }
  ]
}