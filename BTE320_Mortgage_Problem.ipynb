{
  "nbformat": 4,
  "nbformat_minor": 0,
  "metadata": {
    "colab": {
      "provenance": [],
      "authorship_tag": "ABX9TyOSX71VdaOwX25ttugWkc34",
      "include_colab_link": true
    },
    "kernelspec": {
      "name": "python3",
      "display_name": "Python 3"
    },
    "language_info": {
      "name": "python"
    }
  },
  "cells": [
    {
      "cell_type": "markdown",
      "metadata": {
        "id": "view-in-github",
        "colab_type": "text"
      },
      "source": [
        "<a href=\"https://colab.research.google.com/github/daavidgonz/Assignment-I---BTE320/blob/main/BTE320_Mortgage_Problem.ipynb\" target=\"_parent\"><img src=\"https://colab.research.google.com/assets/colab-badge.svg\" alt=\"Open In Colab\"/></a>"
      ]
    },
    {
      "cell_type": "code",
      "source": [
        "class Mortgage:\n",
        "  def __init__(self,amount,maturity,interest): #special method two underscores\n",
        "    self.amount = amount\n",
        "    self.maturity = maturity\n",
        "    self.__interest = interest\n",
        "\n",
        "  def __repr__(self):\n",
        "    return f'Mortgage info:\\n Initial loan amount: {self.amount} $\\n Maturity term: {self.maturity} years\\n Interest: {self.__interest} %'\n",
        "\n",
        "  def get_interest(self):\n",
        "    return self.__interest\n",
        "\n",
        "  def set_interest(self, newInterest):\n",
        "    if newInterest >= 0:\n",
        "      self.__interest = newInterest\n",
        "    else:\n",
        "      print('Interest must be non-negative!')\n",
        "\n",
        "  def payment(self):\n",
        "    B = self.amount\n",
        "    n = self.maturity * 12\n",
        "    r = self.__interest / 100\n",
        "\n",
        "    return B * (r * (1 + r) ** n) / ((1+r) ** n - 1)"
      ],
      "metadata": {
        "id": "VqQjYiG9a5ss"
      },
      "execution_count": null,
      "outputs": []
    },
    {
      "cell_type": "code",
      "source": [
        "m = Mortgage(100000, 30, 6)"
      ],
      "metadata": {
        "id": "KhV7vCUriCKu"
      },
      "execution_count": null,
      "outputs": []
    },
    {
      "cell_type": "code",
      "source": [
        "#update values\n",
        "m.set_interest(-5)\n",
        "m.get_interest()"
      ],
      "metadata": {
        "id": "DgStfuO_ikNT",
        "colab": {
          "base_uri": "https://localhost:8080/"
        },
        "outputId": "d1e5285f-ec43-419c-ac6e-be690de0d5a9"
      },
      "execution_count": null,
      "outputs": [
        {
          "output_type": "stream",
          "name": "stdout",
          "text": [
            "Interest must be non-negative!\n"
          ]
        },
        {
          "output_type": "execute_result",
          "data": {
            "text/plain": [
              "6"
            ]
          },
          "metadata": {},
          "execution_count": 3
        }
      ]
    },
    {
      "cell_type": "code",
      "source": [
        "print(m)"
      ],
      "metadata": {
        "colab": {
          "base_uri": "https://localhost:8080/"
        },
        "id": "QI8RmaR5Au1c",
        "outputId": "ff432b4a-0cac-488a-e9b5-d018284a6c84"
      },
      "execution_count": null,
      "outputs": [
        {
          "output_type": "stream",
          "name": "stdout",
          "text": [
            "Mortgage info:\n",
            " Initial loan amount: 100000 $\n",
            " Maturity term: 30 years\n",
            " Interest: 6 %\n"
          ]
        }
      ]
    }
  ]
}