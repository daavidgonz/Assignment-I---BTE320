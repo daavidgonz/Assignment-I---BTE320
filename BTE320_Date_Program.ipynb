{
  "nbformat": 4,
  "nbformat_minor": 0,
  "metadata": {
    "colab": {
      "provenance": [],
      "authorship_tag": "ABX9TyNVCo6zoqppbBRwcJpmBXfR",
      "include_colab_link": true
    },
    "kernelspec": {
      "name": "python3",
      "display_name": "Python 3"
    },
    "language_info": {
      "name": "python"
    }
  },
  "cells": [
    {
      "cell_type": "markdown",
      "metadata": {
        "id": "view-in-github",
        "colab_type": "text"
      },
      "source": [
        "<a href=\"https://colab.research.google.com/github/daavidgonz/Assignment-I---BTE320/blob/main/BTE320_Date_Program.ipynb\" target=\"_parent\"><img src=\"https://colab.research.google.com/assets/colab-badge.svg\" alt=\"Open In Colab\"/></a>"
      ]
    },
    {
      "cell_type": "code",
      "execution_count": null,
      "metadata": {
        "id": "0cWUfqNf_Rv0",
        "colab": {
          "base_uri": "https://localhost:8080/"
        },
        "outputId": "e45ae685-710c-4dd5-f049-fcf90fc0aca6"
      },
      "outputs": [
        {
          "output_type": "stream",
          "name": "stdout",
          "text": [
            "enter the date in format MM/DD/YYYY: 01/29/2002\n",
            " month=01 day=29 year=2002\n"
          ]
        }
      ],
      "source": [
        "userInput = input('enter the date in format MM/DD/YYYY: ') #asking interepreter to read the user input\n",
        "month_input = userInput[:2]\n",
        "day_input = userInput[3:5]\n",
        "year_input = userInput[6:]\n",
        "print(f'month={month_input} day={day_input} year={year_input}')"
      ]
    }
  ]
}