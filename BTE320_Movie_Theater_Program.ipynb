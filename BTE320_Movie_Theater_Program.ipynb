{
  "nbformat": 4,
  "nbformat_minor": 0,
  "metadata": {
    "colab": {
      "provenance": [],
      "authorship_tag": "ABX9TyO5cqfDboURfnJ7P8MxLHzh",
      "include_colab_link": true
    },
    "kernelspec": {
      "name": "python3",
      "display_name": "Python 3"
    },
    "language_info": {
      "name": "python"
    }
  },
  "cells": [
    {
      "cell_type": "markdown",
      "metadata": {
        "id": "view-in-github",
        "colab_type": "text"
      },
      "source": [
        "<a href=\"https://colab.research.google.com/github/daavidgonz/Assignment-I---BTE320/blob/main/BTE320_Movie_Theater_Program.ipynb\" target=\"_parent\"><img src=\"https://colab.research.google.com/assets/colab-badge.svg\" alt=\"Open In Colab\"/></a>"
      ]
    },
    {
      "cell_type": "code",
      "execution_count": null,
      "metadata": {
        "colab": {
          "base_uri": "https://localhost:8080/"
        },
        "id": "QSKObbxbAwZV",
        "outputId": "b2a3fc01-61ff-4083-f8eb-e76793111a0e"
      },
      "outputs": [
        {
          "output_type": "stream",
          "name": "stdout",
          "text": [
            "Ad$ Profit\n",
            "0.0      0.0\n",
            "25.0      75.0\n",
            "50.0      90.0\n",
            "75.0      105.0\n",
            "100.0      100.0\n",
            "125.0      95.0\n",
            "150.0      90.0\n",
            "175.0      85.0\n",
            "200.0      80.0\n"
          ]
        }
      ],
      "source": [
        "ticket_price = 10\n",
        "base_attendees = 20\n",
        "base_cost = 200\n",
        "print('Ad$ Profit')\n",
        "for ad_cost in range(0,201,25):\n",
        "  cost = base_cost + ad_cost\n",
        "  additional_attendees = 2*round(ad_cost**0.5)\n",
        "  attendees = base_attendees + additional_attendees\n",
        "  revenue = ticket_price * attendees\n",
        "  profit = revenue - cost\n",
        "  print(f'{float(ad_cost)}      {float(profit)}')\n"
      ]
    }
  ]
}